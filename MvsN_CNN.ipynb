{
  "nbformat": 4,
  "nbformat_minor": 0,
  "metadata": {
    "colab": {
      "name": "MvsN_CNN.ipynb",
      "provenance": [],
      "authorship_tag": "ABX9TyM3BWj4Sk+w5PhCr4d7fXos",
      "include_colab_link": true
    },
    "kernelspec": {
      "name": "python3",
      "display_name": "Python 3"
    },
    "accelerator": "GPU"
  },
  "cells": [
    {
      "cell_type": "markdown",
      "metadata": {
        "id": "view-in-github",
        "colab_type": "text"
      },
      "source": [
        "<a href=\"https://colab.research.google.com/github/Kals-13/Memes-vs-Notes/blob/master/MvsN_CNN.ipynb\" target=\"_parent\"><img src=\"https://colab.research.google.com/assets/colab-badge.svg\" alt=\"Open In Colab\"/></a>"
      ]
    },
    {
      "cell_type": "code",
      "metadata": {
        "id": "WuMXQvIBM5wn",
        "colab_type": "code",
        "colab": {}
      },
      "source": [
        "import torch\n",
        "import torchvision\n",
        "import torch.nn as nn\n",
        "import torch.nn.functional as F\n",
        "import matplotlib.pyplot as plt\n",
        "import numpy as np\n",
        "import os \n",
        "import cv2"
      ],
      "execution_count": 1,
      "outputs": []
    },
    {
      "cell_type": "code",
      "metadata": {
        "id": "WKy_xYYdOla-",
        "colab_type": "code",
        "colab": {
          "base_uri": "https://localhost:8080/",
          "height": 34
        },
        "outputId": "26de8605-b255-411c-828b-61f7471e8fd4"
      },
      "source": [
        "torch.device('cuda:0')"
      ],
      "execution_count": 2,
      "outputs": [
        {
          "output_type": "execute_result",
          "data": {
            "text/plain": [
              "device(type='cuda', index=0)"
            ]
          },
          "metadata": {
            "tags": []
          },
          "execution_count": 2
        }
      ]
    },
    {
      "cell_type": "code",
      "metadata": {
        "id": "CFsz_cCZNZTi",
        "colab_type": "code",
        "colab": {
          "base_uri": "https://localhost:8080/",
          "height": 121
        },
        "outputId": "63ffd76d-0694-4a74-e700-0d6d865710e9"
      },
      "source": [
        "from google.colab import drive\n",
        "drive.mount('/content/gdrive', force_remount = True)"
      ],
      "execution_count": 3,
      "outputs": [
        {
          "output_type": "stream",
          "text": [
            "Go to this URL in a browser: https://accounts.google.com/o/oauth2/auth?client_id=947318989803-6bn6qk8qdgf4n4g3pfee6491hc0brc4i.apps.googleusercontent.com&redirect_uri=urn%3aietf%3awg%3aoauth%3a2.0%3aoob&scope=email%20https%3a%2f%2fwww.googleapis.com%2fauth%2fdocs.test%20https%3a%2f%2fwww.googleapis.com%2fauth%2fdrive%20https%3a%2f%2fwww.googleapis.com%2fauth%2fdrive.photos.readonly%20https%3a%2f%2fwww.googleapis.com%2fauth%2fpeopleapi.readonly&response_type=code\n",
            "\n",
            "Enter your authorization code:\n",
            "··········\n",
            "Mounted at /content/gdrive\n"
          ],
          "name": "stdout"
        }
      ]
    },
    {
      "cell_type": "code",
      "metadata": {
        "id": "CCSC-mZ0Xevg",
        "colab_type": "code",
        "colab": {}
      },
      "source": [
        "path0 = \"/content/gdrive/My Drive/Memes\"\n",
        "path1 = \"/content/gdrive/My Drive/Notes\""
      ],
      "execution_count": 4,
      "outputs": []
    },
    {
      "cell_type": "code",
      "metadata": {
        "id": "I0IRw9xIcIKu",
        "colab_type": "code",
        "colab": {}
      },
      "source": [
        "images0 = []\n",
        "for img in os.listdir(path0):\n",
        "  image = cv2.imread(os.path.join(path0, img), cv2.IMREAD_UNCHANGED)\n",
        "  images0.append([image, 0])"
      ],
      "execution_count": 5,
      "outputs": []
    },
    {
      "cell_type": "code",
      "metadata": {
        "id": "PGYPtl0JcW7k",
        "colab_type": "code",
        "colab": {}
      },
      "source": [
        "images1 = []\n",
        "for img in os.listdir(path1):\n",
        "  image = cv2.imread(os.path.join(path1, img), cv2.IMREAD_UNCHANGED)\n",
        "  images1.append([image, 1])"
      ],
      "execution_count": 6,
      "outputs": []
    },
    {
      "cell_type": "code",
      "metadata": {
        "id": "I0ofJ_384LcJ",
        "colab_type": "code",
        "colab": {}
      },
      "source": [
        "test_set = images0[:48] + images1[:48]\n",
        "validation_set = images0[48:80] + images1[48:80]\n",
        "training_set = images0[80:] + images1[80:]"
      ],
      "execution_count": 7,
      "outputs": []
    },
    {
      "cell_type": "code",
      "metadata": {
        "id": "o-18u8304YiZ",
        "colab_type": "code",
        "colab": {}
      },
      "source": [
        "import random\n",
        "random.seed(5)\n",
        "\n",
        "random.shuffle(training_set)\n",
        "random.shuffle(test_set)\n",
        "random.shuffle(validation_set)"
      ],
      "execution_count": 8,
      "outputs": []
    },
    {
      "cell_type": "code",
      "metadata": {
        "id": "Jpna5hM141-X",
        "colab_type": "code",
        "colab": {}
      },
      "source": [
        "train_X = []\n",
        "train_Y = []\n",
        "for features, label in training_set:\n",
        "  train_X.append(features)\n",
        "  train_Y.append(label)\n",
        "train_X = torch.tensor(np.array(train_X))\n",
        "train_X = train_X.permute(0, 3, 1, 2)\n",
        "m = train_X.shape[0]\n",
        "train_Y = torch.tensor(np.array(np.reshape(train_Y, (m, 1))))"
      ],
      "execution_count": 9,
      "outputs": []
    },
    {
      "cell_type": "code",
      "metadata": {
        "id": "Wj14ha7e-9Zs",
        "colab_type": "code",
        "colab": {}
      },
      "source": [
        "validation_X = []\n",
        "validation_Y = []\n",
        "for features, label in validation_set:\n",
        "  validation_X.append(features)\n",
        "  validation_Y.append(label)\n",
        "validation_X = torch.tensor(np.array(validation_X))\n",
        "validation_X = validation_X.permute(0, 3, 1, 2)\n",
        "m = validation_X.shape[0]\n",
        "validation_Y = torch.tensor(np.array(np.reshape(validation_Y, (m, 1))))"
      ],
      "execution_count": 10,
      "outputs": []
    },
    {
      "cell_type": "code",
      "metadata": {
        "id": "jJ1Wu2-6AVag",
        "colab_type": "code",
        "colab": {}
      },
      "source": [
        "test_X = []\n",
        "test_Y = []\n",
        "for features, label in test_set:\n",
        "  test_X.append(features)\n",
        "  test_Y.append(label)\n",
        "test_X = torch.tensor(np.array(test_X))\n",
        "test_X = test_X.permute(0, 3, 1, 2)\n",
        "m = test_X.shape[0]\n",
        "test_Y = torch.tensor(np.array(np.reshape(test_Y, (m, 1))))"
      ],
      "execution_count": 11,
      "outputs": []
    },
    {
      "cell_type": "code",
      "metadata": {
        "id": "GwZs1oraAg2I",
        "colab_type": "code",
        "colab": {}
      },
      "source": [
        "train_X = torch.true_divide(train_X, 256)\n",
        "validation_X = torch.true_divide(validation_X, 256)\n",
        "test_X = torch.true_divide(test_X, 256)"
      ],
      "execution_count": 12,
      "outputs": []
    },
    {
      "cell_type": "code",
      "metadata": {
        "id": "ZZKfNih8A0Lx",
        "colab_type": "code",
        "colab": {}
      },
      "source": [
        "class Network(nn.Module):\n",
        "  def __init__(self):\n",
        "    super(Network, self).__init__()\n",
        "    self.layer1 = nn.Sequential(\n",
        "        nn.Conv2d(3, 20, kernel_size=3, stride=2),\n",
        "        nn.ReLU(),\n",
        "        nn.MaxPool2d(kernel_size=3, stride=2),\n",
        "    )\n",
        "    self.layer2 = nn.Sequential(\n",
        "        nn.Conv2d(20, 40, kernel_size=5, stride=2),\n",
        "        nn.ReLU(),\n",
        "        nn.MaxPool2d(kernel_size=3, stride=2),\n",
        "    )\n",
        "    self.fc1 = nn.Linear(40 * 14 * 14, 100)\n",
        "    self.fc2 = nn.Linear(100, 2)\n",
        "  def forward(self, X):\n",
        "    out = self.layer1(X.float())\n",
        "    out = self.layer2(out)\n",
        "    out = out.reshape(out.shape[0], -1)\n",
        "    out = self.fc1(out)\n",
        "    out = self.fc2(out)\n",
        "    return out"
      ],
      "execution_count": 13,
      "outputs": []
    },
    {
      "cell_type": "code",
      "metadata": {
        "id": "szj2URQj52yr",
        "colab_type": "code",
        "colab": {}
      },
      "source": [
        "learning_rate = 0.0007"
      ],
      "execution_count": 31,
      "outputs": []
    },
    {
      "cell_type": "code",
      "metadata": {
        "id": "F2olQQ0APp20",
        "colab_type": "code",
        "colab": {}
      },
      "source": [
        "model = Network()\n",
        "loss = nn.CrossEntropyLoss()\n",
        "optimizer = torch.optim.Adam(model.parameters(), learning_rate)"
      ],
      "execution_count": 32,
      "outputs": []
    },
    {
      "cell_type": "code",
      "metadata": {
        "id": "42LrKyPeHiNi",
        "colab_type": "code",
        "colab": {}
      },
      "source": [
        "def predictions(predictions, labels):\n",
        "  predict = F.softmax(predictions, dim=1)\n",
        "  count = 0\n",
        "  predict = torch.argmax(predict, dim=1, keepdims=True)\n",
        "  predict = predict.reshape(predict.shape[0])\n",
        "  for i in range(len(labels)):\n",
        "    if labels[i] == predict[i]:\n",
        "      count += 1\n",
        "  return 100 * count/labels.shape[0]"
      ],
      "execution_count": 33,
      "outputs": []
    },
    {
      "cell_type": "code",
      "metadata": {
        "id": "8wIq8vU5OmCe",
        "colab_type": "code",
        "colab": {}
      },
      "source": [
        "def training_model( X, Y, learning_rate, dataset, num_epochs):\n",
        "  n = X.shape[0]\n",
        "  losses = []\n",
        "  for epoch in range(num_epochs):\n",
        "    outputs = model(X)\n",
        "    cost = loss(outputs, torch.squeeze(Y))\n",
        "    print(cost.item())\n",
        "    losses.append(cost.item())\n",
        "\n",
        "    optimizer.zero_grad()\n",
        "    cost.backward()\n",
        "    optimizer.step()\n",
        "\n",
        "  print(\"Accuracy on\", dataset, \"set is\",  predictions(outputs.data, Y))\n",
        "  plt.plot(losses)\n",
        "  plt.xlabel('epochs')\n",
        "  plt.ylabel('loss')\n",
        "  plt.show()"
      ],
      "execution_count": 34,
      "outputs": []
    },
    {
      "cell_type": "code",
      "metadata": {
        "id": "LNHlC4gJUEa7",
        "colab_type": "code",
        "colab": {
          "base_uri": "https://localhost:8080/",
          "height": 810
        },
        "outputId": "13602342-a8b5-40a7-f2dd-1582b66642ab"
      },
      "source": [
        "training_model(train_X, train_Y, learning_rate, \"train\", 7)\n",
        "training_model(validation_X, validation_Y, learning_rate, \"validation\", 7)"
      ],
      "execution_count": 35,
      "outputs": [
        {
          "output_type": "stream",
          "text": [
            "0.6958707571029663\n",
            "0.8254207372665405\n",
            "0.5277590155601501\n",
            "0.4895748198032379\n",
            "0.4234474301338196\n",
            "0.3380260467529297\n",
            "0.24190065264701843\n",
            "Accuracy on train set is 95.13888888888889\n"
          ],
          "name": "stdout"
        },
        {
          "output_type": "display_data",
          "data": {
            "image/png": "[encoded data removed]",
            "text/plain": [
              "<Figure size 432x288 with 1 Axes>"
            ]
          },
          "metadata": {
            "tags": [],
            "needs_background": "light"
          }
        },
        {
          "output_type": "stream",
          "text": [
            "0.3092804551124573\n",
            "0.2446608990430832\n",
            "0.17498169839382172\n",
            "0.1347551941871643\n",
            "0.08130990713834763\n",
            "0.056050144135951996\n",
            "0.04049866273999214\n",
            "Accuracy on validation set is 100.0\n"
          ],
          "name": "stdout"
        },
        {
          "output_type": "display_data",
          "data": {
            "image/png": "[encoded data removed]",
            "text/plain": [
              "<Figure size 432x288 with 1 Axes>"
            ]
          },
          "metadata": {
            "tags": [],
            "needs_background": "light"
          }
        }
      ]
    },
    {
      "cell_type": "code",
      "metadata": {
        "id": "88zUPGYL-_WE",
        "colab_type": "code",
        "colab": {}
      },
      "source": [
        "def test_model(X, Y):\n",
        "  model.eval()\n",
        "  with torch.no_grad():\n",
        "    outputs = model(X)\n",
        "    accuracy = predictions(outputs.data, Y)\n",
        "    print(\"Accuracy on test set is \", accuracy)"
      ],
      "execution_count": 36,
      "outputs": []
    },
    {
      "cell_type": "code",
      "metadata": {
        "id": "YX9QpeUCjtGP",
        "colab_type": "code",
        "colab": {
          "base_uri": "https://localhost:8080/",
          "height": 34
        },
        "outputId": "21aa25c7-2e76-4e32-f758-1ca9714f354e"
      },
      "source": [
        "test_model(test_X, test_Y)"
      ],
      "execution_count": 37,
      "outputs": [
        {
          "output_type": "stream",
          "text": [
            "Accuracy on test set is  93.75\n"
          ],
          "name": "stdout"
        }
      ]
    },
    {
      "cell_type": "code",
      "metadata": {
        "id": "ufH3vo2pjwc4",
        "colab_type": "code",
        "colab": {
          "base_uri": "https://localhost:8080/",
          "height": 34
        },
        "outputId": "2e5a1d37-861d-4e37-8cf9-02509bc76d22"
      },
      "source": [
        "train_X.shape"
      ],
      "execution_count": 38,
      "outputs": [
        {
          "output_type": "execute_result",
          "data": {
            "text/plain": [
              "torch.Size([1440, 3, 256, 256])"
            ]
          },
          "metadata": {
            "tags": []
          },
          "execution_count": 38
        }
      ]
    },
    {
      "cell_type": "code",
      "metadata": {
        "id": "cKFOBQuKOa6K",
        "colab_type": "code",
        "colab": {}
      },
      "source": [
        ""
      ],
      "execution_count": null,
      "outputs": []
    }
  ]
}